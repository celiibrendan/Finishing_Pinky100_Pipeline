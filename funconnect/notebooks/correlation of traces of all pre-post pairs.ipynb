{
 "cells": [
  {
   "cell_type": "code",
   "execution_count": null,
   "metadata": {},
   "outputs": [],
   "source": [
    "from funconnect import ta3, nda\n",
    "from funconnect.morphology import schema\n",
    "import datajoint as dj\n",
    "\n",
    "from scipy import stats\n",
    "import numpy as np\n",
    "\n",
    "@schema\n",
    "class FunCorrelation(dj.Computed):\n",
    "    definition = \"\"\"\n",
    "    # correlation of traces for connected pairs of cells\n",
    "    (scan_idx, pre_slice, pre_id) -> nda.Trace(scan_idx, slice, em_id)\n",
    "    (post_slice, post_id) -> nda.Trace(slice, em_id)\n",
    "    ---\n",
    "    correlation          : float      # Pearson's correlation coefficient\n",
    "    p_val                : float      # two-tailed p_value of slope of the linear regression\n",
    "    \"\"\"\n",
    "    \n",
    "    @property\n",
    "    def cell_synapses(self):\n",
    "        presoma = ta3.Soma().proj(pre_id='em_id', presyn='segment_id')\n",
    "        postsoma = ta3.Soma().proj(post_id='em_id', postsyn='segment_id')\n",
    "        return presoma * postsoma & ta3.Synapse\n",
    "    \n",
    "    @property\n",
    "    def key_source(self):\n",
    "        pres = nda.Trace.proj(pre_slice='slice', pre_id='em_id')\n",
    "        posts = nda.Trace.proj(post_slice='slice', post_id='em_id')\n",
    "        return pres * posts & 'pre_id != post_id'\n",
    "        \n",
    "    def make(self, key):\n",
    "        pre = dict(key)\n",
    "        pre['slice'] = pre['pre_slice']\n",
    "        pre['em_id'] = pre['pre_id']\n",
    "        pre_trace = (nda.Trace & pre).fetch1('trace').reshape(-1)\n",
    "        pre_trace.shape\n",
    "        post = dict(key)\n",
    "        post['slice'] = post['post_slice']\n",
    "        post['em_id'] = post['post_id']\n",
    "        post_trace = (nda.Trace & post).fetch1('trace').reshape(-1)\n",
    "        \n",
    "        correlation = stats.pearsonr(pre_trace, post_trace)[0]\n",
    "        p_val = stats.pearsonr(pre_trace, post_trace)[1]\n",
    "        \n",
    "        key['correlation'] = correlation\n",
    "        key['p_val'] = p_val \n",
    "        self.insert1(key)\n",
    "\n",
    "synapses_funcorr = FunCorrelation() & FunCorrelation().cell_synapses\n",
    "        "
   ]
  },
  {
   "cell_type": "code",
   "execution_count": null,
   "metadata": {},
   "outputs": [],
   "source": [
    "dj.conn()"
   ]
  },
  {
   "cell_type": "code",
   "execution_count": null,
   "metadata": {},
   "outputs": [],
   "source": [
    "FunCorrelation()"
   ]
  },
  {
   "cell_type": "code",
   "execution_count": null,
   "metadata": {},
   "outputs": [],
   "source": [
    "keys = FunCorrelation().key_source.fetch('KEY')"
   ]
  },
  {
   "cell_type": "code",
   "execution_count": null,
   "metadata": {},
   "outputs": [],
   "source": [
    "key = keys[0]\n",
    "key"
   ]
  },
  {
   "cell_type": "code",
   "execution_count": null,
   "metadata": {},
   "outputs": [],
   "source": [
    "stats.pearsonr?"
   ]
  },
  {
   "cell_type": "code",
   "execution_count": null,
   "metadata": {},
   "outputs": [],
   "source": [
    "pre = dict(key)\n",
    "pre['slice'] = pre['pre_slice']\n",
    "pre['em_id'] = pre['pre_id']\n",
    "pre_trace = (nda.Trace & pre).fetch1('trace').reshape(-1)\n",
    "pre_trace.shape\n",
    "post = dict(key)\n",
    "post['slice'] = post['post_slice']\n",
    "post['em_id'] = post['post_id']\n",
    "post_trace = (nda.Trace & post).fetch1('trace').reshape(-1)\n",
    "from scipy import stats\n",
    "corr = stats.pearsonr(pre_trace, post_trace)[0]\n",
    "p_val = stats.pearsonr(pre_trace, post_trace)[1]"
   ]
  },
  {
   "cell_type": "code",
   "execution_count": null,
   "metadata": {},
   "outputs": [],
   "source": [
    "p_val"
   ]
  },
  {
   "cell_type": "code",
   "execution_count": null,
   "metadata": {},
   "outputs": [],
   "source": [
    "synapses_funcorr"
   ]
  },
  {
   "cell_type": "code",
   "execution_count": null,
   "metadata": {},
   "outputs": [],
   "source": [
    "FunCorrelation().key_source"
   ]
  },
  {
   "cell_type": "code",
   "execution_count": null,
   "metadata": {},
   "outputs": [],
   "source": [
    "FunCorrelation().key_source"
   ]
  },
  {
   "cell_type": "code",
   "execution_count": null,
   "metadata": {},
   "outputs": [],
   "source": [
    "k = FunCorrelation()"
   ]
  },
  {
   "cell_type": "code",
   "execution_count": null,
   "metadata": {},
   "outputs": [],
   "source": [
    "k - k.cell_synapses"
   ]
  },
  {
   "cell_type": "code",
   "execution_count": null,
   "metadata": {},
   "outputs": [],
   "source": [
    "FunCorrelation.populate(FunCorrelation().cell_synapses, display_progress=True)"
   ]
  },
  {
   "cell_type": "code",
   "execution_count": null,
   "metadata": {},
   "outputs": [],
   "source": [
    "FunCorrelation() & FunCorrelation().cell_synapses"
   ]
  },
  {
   "cell_type": "code",
   "execution_count": null,
   "metadata": {},
   "outputs": [],
   "source": [
    "FunCorrelation() & FunCorrelation().cell_sy"
   ]
  },
  {
   "cell_type": "code",
   "execution_count": null,
   "metadata": {},
   "outputs": [],
   "source": [
    "FunCorrelation()."
   ]
  },
  {
   "cell_type": "code",
   "execution_count": null,
   "metadata": {},
   "outputs": [],
   "source": [
    "@schema\n",
    "class FunCorrelation(dj.Computed):\n",
    "    definition = \"\"\"\n",
    "    # correlation of traces for connected pairs of cells\n",
    "    -> nda.Scan\n",
    "    (pre_slice, pre_id) -> nda.Mask(slice, em_id)\n",
    "    (post_slice, post_id) -> nda.Mask(slice, em_id)\n",
    "    ---\n",
    "    correlation          : float      # correlation of traces\n",
    "    \"\"\"\n",
    "    key_source = pres * posts & cell_syn\n",
    "    segments = ta3.Segment & (ta3.Soma & key) # All the segments containing the postsyn cell\n",
    "    postCells = (ta3.Soma & key) # All the postsyn cells\n",
    "    preCells = ta3.Soma.proj(presyn='segment_id') & (ta3.Synapse * segments.proj(postsyn='segment_id'))\n",
    "    \n",
    "    scans = nda.Scan & (nda.Trace & key)\n",
    "    pretraces = (nda.Trace & preCells & scans).proj(preslice='slice', preid='em_id', pretrace='trace')\n",
    "    posttraces = (nda.Trace & key).proj(postslice='slice', postid='em_id', posttrace='trace')\n",
    "   \n",
    "    def _make_tuples(self, key):\n",
    "        print(key)"
   ]
  },
  {
   "cell_type": "code",
   "execution_count": null,
   "metadata": {},
   "outputs": [],
   "source": []
  },
  {
   "cell_type": "code",
   "execution_count": null,
   "metadata": {},
   "outputs": [],
   "source": [
    "FunCorrelation.populate()"
   ]
  },
  {
   "cell_type": "code",
   "execution_count": null,
   "metadata": {},
   "outputs": [],
   "source": []
  }
 ],
 "metadata": {
  "kernelspec": {
   "display_name": "Python 3",
   "language": "python",
   "name": "python3"
  },
  "language_info": {
   "codemirror_mode": {
    "name": "ipython",
    "version": 3
   },
   "file_extension": ".py",
   "mimetype": "text/x-python",
   "name": "python",
   "nbconvert_exporter": "python",
   "pygments_lexer": "ipython3",
   "version": "3.6.3"
  }
 },
 "nbformat": 4,
 "nbformat_minor": 2
}
