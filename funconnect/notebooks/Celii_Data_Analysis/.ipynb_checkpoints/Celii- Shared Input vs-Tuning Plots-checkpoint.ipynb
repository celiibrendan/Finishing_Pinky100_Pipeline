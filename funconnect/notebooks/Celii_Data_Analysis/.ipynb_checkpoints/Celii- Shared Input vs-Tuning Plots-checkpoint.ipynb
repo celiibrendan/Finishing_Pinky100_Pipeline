{
 "cells": [
  {
   "cell_type": "code",
   "execution_count": null,
   "metadata": {},
   "outputs": [],
   "source": [
    "%reload_ext autoreload\n",
    "%autoreload 2\n",
    "%matplotlib inline"
   ]
  },
  {
   "cell_type": "code",
   "execution_count": null,
   "metadata": {},
   "outputs": [],
   "source": [
    "import matplotlib.pyplot as plt\n",
    "from mpl_toolkits.mplot3d import Axes3D\n",
    "import seaborn as sns\n",
    "\n",
    "import datajoint as dj\n",
    "from funconnect import connectomics as cncs, ta3, nda\n",
    "from funconnect.connectomics import *\n",
    "from funconnect import nda\n",
    "import numpy as np\n",
    "import pandas as pd\n",
    "import pycircstat as circ\n",
    "cncs.schema.spawn_missing_classes()"
   ]
  },
  {
   "cell_type": "markdown",
   "metadata": {},
   "source": [
    "# Orientation tuning"
   ]
  },
  {
   "cell_type": "markdown",
   "metadata": {},
   "source": [
    "Set some parameters for the analysis"
   ]
  },
  {
   "cell_type": "code",
   "execution_count": null,
   "metadata": {},
   "outputs": [],
   "source": [
    "is_tuned = 'von_r2>0.05 and von_pvalue<0.05'\n",
    "dori_resolution = np.pi / 2 / 4\n",
    "rad2deg = 180/np.pi\n",
    "bin_edges = np.linspace(0, np.pi,9)\n",
    "be = list(['{:.0f}'.format(ee) for ee in [np.round(e * rad2deg) for e in bin_edges]])\n",
    "bin_labels = list(zip(be[:-1], be[1:]))\n",
    "bin_centers = np.round((bin_edges[1:] + bin_edges[:-1])/2 * rad2deg, decimals=2) "
   ]
  },
  {
   "cell_type": "markdown",
   "metadata": {},
   "source": [
    "Massage the relations"
   ]
  },
  {
   "cell_type": "code",
   "execution_count": null,
   "metadata": {},
   "outputs": [],
   "source": [
    "tuned_rel = nda.VonMises() & is_tuned\n",
    "best_r2 = dj.U('segment_id').aggr(tuned_rel, best_r2='max(von_r2)')\n",
    "pref_rel = (tuned_rel * best_r2) & 'von_r2 >= best_r2'\n",
    "\n",
    "p_cond = dict(p='n_seg_shared > 0')\n",
    "# p_cond = dict(p='n_seg_shared = 10')\n",
    "attrs = ['segment_a', 'segment_b', 'connection', 'n_seg_shared']\n",
    "shi = (dj.U(*attrs) & SharedInput.proj('n_seg_shared', connection='shared_input_type', segment_a = 'segment_id')) + \\\n",
    "      (dj.U(*attrs) & SharedInput.proj('n_seg_shared', connection='shared_input_type', segment_a='segment_b', segment_b='segment_id')) #+ \\\n",
    "#       (dj.U(*attrs) & SharedContactPair.proj('segment_a', 'segment_b', n_seg_shared='n_axon_shared', connection='\"contact\"')) + \\\n",
    "#       (dj.U(*attrs) & SharedContactPair.proj(segment_b='segment_a', segment_a='segment_b', n_seg_shared='n_axon_shared', connection='\"contact\"')) \n",
    "rel2 = shi  * pref_rel.proj(ori_1='von_pref',dummy='scan_idx', segment_a='segment_id') * pref_rel.proj(segment_b='segment_id', ori_2='von_pref')"
   ]
  },
  {
   "cell_type": "markdown",
   "metadata": {},
   "source": [
    "Fetch the dataframe and bin the orientations"
   ]
  },
  {
   "cell_type": "code",
   "execution_count": null,
   "metadata": {},
   "outputs": [],
   "source": [
    "df = pd.DataFrame(rel2.fetch())\n",
    "\n",
    "df['dori'] = np.abs(circ.cdiff(2 * df['ori_1'], 2 * df['ori_2'])/2)\n",
    "df['bdori'] = bin_centers[(np.digitize(np.abs(circ.cdiff(2 * df['ori_1'], 2 * df['ori_2'])/2), bin_edges))]\n",
    "\n",
    "df['ori_1'] = (df['ori_1'] % np.pi) * rad2deg\n",
    "df['ori_2'] = (df['ori_2'] % np.pi) * rad2deg\n",
    "\n",
    "df['bori_1'] = bin_centers[(np.digitize(df['ori_1'] % np.pi, bin_edges))-1]\n",
    "df['bori_2'] = bin_centers[(np.digitize(df['ori_2'] % np.pi, bin_edges))-1]\n"
   ]
  },
  {
   "cell_type": "markdown",
   "metadata": {},
   "source": [
    "# Plot cumulative distributions"
   ]
  },
  {
   "cell_type": "code",
   "execution_count": null,
   "metadata": {},
   "outputs": [],
   "source": [
    "stuff = ['connection', 'bdori', 'n_seg_shared']\n",
    "\n",
    "n = df.groupby(stuff)['dummy'].count().reset_index()\n",
    "s = n.groupby(stuff[:-1]).transform('sum')\n",
    "cs = n.groupby(stuff[:-1]).transform('cumsum')\n",
    "n['P'] = 1 - cs['dummy']/s['dummy']\n",
    "n['csum'] = cs['dummy']\n",
    "n['sum'] = s['dummy']\n",
    "n['prob'] = n['dummy']/s['dummy']\n",
    "# n"
   ]
  },
  {
   "cell_type": "markdown",
   "metadata": {},
   "source": [
    "## P(more than k shared segments| $\\Delta \\vartheta$)"
   ]
  },
  {
   "cell_type": "code",
   "execution_count": null,
   "metadata": {},
   "outputs": [],
   "source": [
    "n['k'] = n['n_seg_shared']\n",
    "sns.set_context('notebook', font_scale=1.3)\n",
    "g = sns.catplot('bdori', 'P', data=n, kind='point', col='connection', hue='k', hue_order=np.arange(12), \n",
    "                palette=sns.color_palette(\"GnBu_d\", n_colors=12), legend=False, legend_out=True, sharey=False)\n",
    "g.set_titles('{col_name} axons')\n",
    "g.set_axis_labels(y_var='p(number of shared segments>k)', x_var=r'$\\Delta \\theta$')\n",
    "for ax in g.axes.ravel():\n",
    "    ax.set_xticklabels(['{}°-{}°'.format(*a) for a in bin_labels], rotation=0)\n",
    "# g.axes[0,-1].legend(title='k', ncol=3)\n",
    "g.add_legend(title='k', ncol=2)\n",
    "\n",
    "sns.despine(trim=True)\n",
    "g.fig.subplots_adjust(bottom=.2)\n",
    "g.fig.savefig('figures/shared_input_cumprob.png', dpi=200)\n",
    "g.fig.savefig('figures/shared_input_cumprob.pdf')"
   ]
  },
  {
   "cell_type": "markdown",
   "metadata": {},
   "source": [
    "# $\\langle$ shared segments $\\rangle$ as function of $\\Delta \\theta$"
   ]
  },
  {
   "cell_type": "code",
   "execution_count": null,
   "metadata": {},
   "outputs": [],
   "source": [
    "g = sns.catplot('bdori', 'n_seg_shared', data=df, kind='point', col='connection',  legend_out=True, sharey=False)\n",
    "g.set_axis_labels(x_var=r'$\\Delta \\theta$', y_var=r'$\\langle$shared segments$\\rangle$')\n",
    "# g.ax.set_yticks(np.arange(2,7))\n",
    "# g.ax.yaxis.grid(True, linestyle=':')\n",
    "for ax in g.axes.ravel():\n",
    "    ax.yaxis.grid(True, linestyle=':')\n",
    "    ax.set_xticklabels(['{}°-{}°'.format(*a) for a in bin_labels], rotation=0)\n",
    "sns.despine(trim=True)\n",
    "g.set_titles('{col_name} axons')\n",
    "# g.ax.set_title('non-perisomatic axons')\n",
    "g.fig.savefig('figures/average_shared_input.png', dpi=200)\n",
    "g.fig.savefig('figures/average_shared_input.pdf')"
   ]
  },
  {
   "cell_type": "markdown",
   "metadata": {},
   "source": [
    "# Combined plot"
   ]
  },
  {
   "cell_type": "markdown",
   "metadata": {},
   "source": [
    "Get input density per postsynaptic neuron"
   ]
  },
  {
   "cell_type": "code",
   "execution_count": null,
   "metadata": {},
   "outputs": [],
   "source": [
    "segs = ta3.Synapse * pref_rel.proj(ori='von_pref', postsyn='segment_id') & (ta3.Neurite & dict(neurite_type='axon')).proj(presyn='segment_id')\n",
    "df_segments = pd.DataFrame(segs.fetch())\n",
    "df_segments['ori'] = (df_segments['ori'] % np.pi) * rad2deg\n",
    "df_segments['bori'] = bin_centers[(np.digitize(df_segments['ori'] % np.pi, bin_edges))-1]\n",
    "df_m = df_segments.groupby(['postsyn','ori','bori'])['presyn'].count().reset_index()"
   ]
  },
  {
   "cell_type": "markdown",
   "metadata": {},
   "source": [
    "Get tuned neurons"
   ]
  },
  {
   "cell_type": "code",
   "execution_count": null,
   "metadata": {},
   "outputs": [],
   "source": [
    "df_tuned = pd.DataFrame(pref_rel.proj(ori='von_pref').fetch())\n",
    "df_tuned['ori'] = (df_tuned['ori'] % np.pi) * rad2deg"
   ]
  },
  {
   "cell_type": "code",
   "execution_count": null,
   "metadata": {},
   "outputs": [],
   "source": [
    "with sns.axes_style('ticks'):\n",
    "    fig, ax = plt.subplots(1,3, figsize=(15,5))\n",
    "blue = sns.xkcd_rgb['cerulean']\n",
    "sns.pointplot('bdori', 'n_seg_shared', data=df[df.connection == 'non-perisomatic'], kind='point', ax=ax[0], color=blue)\n",
    "ax[0].set_xticklabels(['{}°-{}°'.format(*a) for a in bin_labels], rotation=0)\n",
    "\n",
    "# sns.distplot(df_segments.ori, ax=ax[1], kde=False, norm_hist=False,\n",
    "#             hist_kws=dict(color=blue))\n",
    "sns.barplot('bori', 'presyn', ax=ax[1], data=df_m, orient='vertical', color=blue)\n",
    "\n",
    "sns.distplot(df_tuned.ori, ax=ax[2], kde=True, rug=True, \n",
    "             kde_kws=dict(bw=3, shade=True, color=blue), \n",
    "             rug_kws=dict(color='slategray'),\n",
    "             hist=False)\n",
    "\n",
    "\n",
    "ax[0].set_ylabel(r'$\\langle$shared axons$\\rangle$')\n",
    "ax[0].set_xlabel(r'$\\Delta \\vartheta$')\n",
    "\n",
    "xt = np.linspace(0, 180, 5)\n",
    "for a in ax[1:]:\n",
    "    a.set_xlabel(r'$\\vartheta$')\n",
    "ax[1].set_xticklabels(['{}°-{}°'.format(*a) for a in bin_labels], rotation=60)\n",
    "\n",
    "ax[2].set_xticks(xt)\n",
    "ax[2].set_xticklabels(['{}°'.format(t) for t in xt])\n",
    "ax[1].set_ylabel('presynaptic axons per\\npostsynaptic segment')\n",
    "ax[2].set_ylabel('tuned segments density')\n",
    "\n",
    "sns.despine(trim=True)\n",
    "fig.tight_layout()\n",
    "fig.savefig('figures/tuning_statistics.png', dpi=200)\n",
    "fig.savefig('figures/tuning_statistics.pdf')"
   ]
  },
  {
   "cell_type": "markdown",
   "metadata": {},
   "source": [
    "# Heatmap of preferred orientation and number of shared segments"
   ]
  },
  {
   "cell_type": "code",
   "execution_count": null,
   "metadata": {},
   "outputs": [],
   "source": [
    "df2 = df[df.connection == 'non-perisomatic'].groupby(['bori_1', 'bori_2'])['n_seg_shared'].mean().reset_index()\n",
    "df2 = df2.pivot('bori_1', 'bori_2', 'n_seg_shared')\n",
    "g = sns.heatmap(df2, square=True)\n",
    "g.figure.set_size_inches((6,5))\n",
    "g.figure.set_dpi(100)\n",
    "g.set_xticklabels(['{}°-{}°'.format(*a) for a in bin_labels])\n",
    "g.set_yticklabels(['{}°-{}°'.format(*a) for a in bin_labels])\n",
    "g.invert_yaxis()\n",
    "g.set_xlabel(r'$\\vartheta_1$')\n",
    "g.set_ylabel(r'$\\vartheta_2$')\n",
    "df2"
   ]
  },
  {
   "cell_type": "markdown",
   "metadata": {},
   "source": [
    "# Receptive fields"
   ]
  },
  {
   "cell_type": "markdown",
   "metadata": {},
   "source": [
    "Get significant receptive fields"
   ]
  },
  {
   "cell_type": "code",
   "execution_count": null,
   "metadata": {},
   "outputs": [],
   "source": [
    "attrs = ['segment_a', 'segment_b', 'connection', 'n_seg_shared']\n",
    "good_rf = 'mscore > 1.25'\n",
    "\n",
    "cbin_edges = np.linspace(-.7, .7, 6)\n",
    "cbin_centers = np.hstack((np.nan, np.round((cbin_edges[1:] + cbin_edges[:-1])/2, decimals=2), np.nan))\n",
    "cbin_labels = ['[{:.1f},{:.1f}]'.format(*a) for a in zip(cbin_edges[:-1], cbin_edges[1:])]"
   ]
  },
  {
   "cell_type": "code",
   "execution_count": null,
   "metadata": {},
   "outputs": [],
   "source": [
    "rf_scores = dj.U('segment_id').aggr(nda.RFScore(), mscore='max(score)') & good_rf"
   ]
  },
  {
   "cell_type": "code",
   "execution_count": null,
   "metadata": {},
   "outputs": [],
   "source": [
    "# shi = (dj.U(*attrs) & PostSynapticPairAxonalInput.proj(n_seg_shared='n_seg_shared/n_seg_union', connection='\"non-perisomatic\"', \n",
    "#                                                        segment_a = 'segment_id')) + \\\n",
    "#       (dj.U(*attrs) & PostSynapticPairAxonalInput.proj(n_seg_shared='n_seg_shared/n_seg_union', connection='\"non-perisomatic\"', \n",
    "#                                                        segment_a='segment_b', segment_b='segment_id'))# + \\\n",
    "# crel = shi * RFCorrelation.Pair().proj('rf_corr_coef', segment_a='segment_id', segment_b='other_seg') * \\\n",
    "#     pref_rel.proj(ori_1='von_pref',dummy='scan_idx', segment_a='segment_id') * pref_rel.proj(segment_b='segment_id', ori_2='von_pref') * \\\n",
    "#     rf_scores.proj(score_a='mscore', segment_a='segment_id') * rf_scores.proj(score_b='mscore', segment_b='segment_id')"
   ]
  },
  {
   "cell_type": "markdown",
   "metadata": {},
   "source": [
    "Get all *tuned* neurons with *well scoring RFs* and get their pairwise shared input. "
   ]
  },
  {
   "cell_type": "code",
   "execution_count": null,
   "metadata": {},
   "outputs": [],
   "source": [
    "shi = (dj.U(*attrs) & SharedInput.proj('n_seg_shared', connection='shared_input_type', segment_a = 'segment_id')) + \\\n",
    "      (dj.U(*attrs) & SharedInput.proj('n_seg_shared', connection='shared_input_type', segment_a='segment_b', segment_b='segment_id'))# + \\\n",
    "#       (dj.U(*attrs) & SharedContactPair.proj('segment_a', 'segment_b', n_seg_shared='n_axon_shared', connection='\"contact\"')) + \\\n",
    "#       (dj.U(*attrs) & SharedContactPair.proj(segment_b='segment_a', segment_a='segment_b', n_seg_shared='n_axon_shared', connection='\"contact\"')) \n",
    "\n",
    "crel = shi * RFCorrelation.Pair().proj('rf_corr_coef', segment_a='segment_id', segment_b='other_seg') * \\\n",
    "    pref_rel.proj(ori_1='von_pref',dummy='scan_idx', segment_a='segment_id') * pref_rel.proj(segment_b='segment_id', ori_2='von_pref') * \\\n",
    "    rf_scores.proj(segment_a='segment_id') * rf_scores.proj(segment_b='segment_id')"
   ]
  },
  {
   "cell_type": "code",
   "execution_count": null,
   "metadata": {},
   "outputs": [],
   "source": [
    "cdf = pd.DataFrame(crel.fetch())"
   ]
  },
  {
   "cell_type": "code",
   "execution_count": null,
   "metadata": {},
   "outputs": [],
   "source": [
    "cdf['bcorr'] = cbin_centers[(np.digitize(cdf['rf_corr_coef'], cbin_edges))]\n",
    "cdf['n_seg_shared'] = np.array(cdf['n_seg_shared']).astype(float)\n",
    "cdf['bcorr'] = np.array(cdf['bcorr']).astype(float)\n",
    "\n"
   ]
  },
  {
   "cell_type": "code",
   "execution_count": null,
   "metadata": {},
   "outputs": [],
   "source": [
    "cdf['dori'] = np.abs(circ.cdiff(2 * cdf['ori_1'], 2 * cdf['ori_2'])/2) \n",
    "cdf['bdori'] = bin_centers[(np.digitize(np.abs(circ.cdiff(2 * cdf['ori_1'], 2 * cdf['ori_2'])/2), bin_edges))]\n"
   ]
  },
  {
   "cell_type": "code",
   "execution_count": null,
   "metadata": {},
   "outputs": [],
   "source": [
    "g = sns.catplot('bcorr', 'n_seg_shared', data=cdf, col='connection', kind='point', legend_out=True, sharey=False)\n",
    "g.set_axis_labels(x_var=r'$\\rho$(RF$_1$, RF$_2$)', y_var=r'$\\langle$shared segments$\\rangle$')\n",
    "\n",
    "for ax in g.axes.ravel():\n",
    "    ax.yaxis.grid(True, linestyle=':')\n",
    "    ax.set_xticklabels(cbin_labels, rotation=30)\n",
    "sns.despine(trim=True)\n",
    "g.set_titles('{col_name} axons')\n",
    "\n",
    "g.fig.savefig('figures/average_shared_input_vs_correlation.png', dpi=200)\n",
    "g.fig.savefig('figures/average_shared_input_vs_correlation.pdf')"
   ]
  },
  {
   "cell_type": "code",
   "execution_count": null,
   "metadata": {},
   "outputs": [],
   "source": [
    "g = sns.stripplot( 'n_seg_shared', 'rf_corr_coef', data=cdf[cdf.n_seg_shared < 11], jitter=0.3, s=2, color='k')\n",
    "g.set_xlabel(r'number of shared presynaptic segments')\n",
    "g.set_xticklabels([int(e) for e in g.get_xticks()])\n",
    "g.set_ylabel(r'$\\rho$(RF$_1$, RF$_2$)')\n",
    "sns.despine(trim=True)\n",
    "g.figure.set_size_inches((10,7))\n",
    "g.figure.savefig('figures/shared_input_stripplot.png', dpi=200)\n",
    "g.figure.savefig('figures/shared_input_stripplot.pdf')"
   ]
  },
  {
   "cell_type": "code",
   "execution_count": null,
   "metadata": {},
   "outputs": [],
   "source": [
    "neg90 = cdf[(cdf.dori > 70/180*np.pi) & (cdf.rf_corr_coef > .40)]\n",
    "neg90"
   ]
  },
  {
   "cell_type": "code",
   "execution_count": null,
   "metadata": {},
   "outputs": [],
   "source": [
    "neg90 = [rf.mean(axis=0) for rf in (nda.RF() & 'segment_id in (53349510, 39500491)').fetch('rf')]\n",
    "neg0 = [rf.mean(axis=0) for rf in (nda.RF() & 'segment_id in (107860456, 39500491)').fetch('rf')]\n",
    "pos0 = [rf.mean(axis=0) for rf in (nda.RF() & 'segment_id in (83286327, 5386310)').fetch('rf')]\n",
    "pos90 = [rf.mean(axis=0) for rf in (nda.RF() & 'segment_id in (53349510, 99210911)').fetch('rf')]"
   ]
  },
  {
   "cell_type": "code",
   "execution_count": null,
   "metadata": {},
   "outputs": [],
   "source": [
    "from itertools import chain\n",
    "gs = plt.GridSpec(4, 4)\n",
    "fig = plt.figure(figsize=(15,7.5))\n",
    "ax_heat = fig.add_subplot(gs[:,1:3])\n",
    "with sns.axes_style('whitegrid'):\n",
    "    ax_tl = [fig.add_subplot(gs[0,0]), fig.add_subplot(gs[1,0])]\n",
    "    ax_tr = [fig.add_subplot(gs[0,-1]), fig.add_subplot(gs[1,-1])]\n",
    "    ax_br = [fig.add_subplot(gs[-2,-1]), fig.add_subplot(gs[-1,-1])]\n",
    "    ax_bl = [fig.add_subplot(gs[-2,0]), fig.add_subplot(gs[-1,0])]\n",
    "\n",
    "for tl, rf in chain(zip(ax_tl, neg90), zip(ax_bl, neg0), zip(ax_br, pos0),  zip(ax_tr, pos90)):\n",
    "    rf -= rf.mean()\n",
    "    v = np.abs(rf).max()\n",
    "#     tl.contour(rf, cmap='bwr', levels=np.linspace(-v,v,7))\n",
    "    tl.matshow(rf, cmap='bwr', vmin=-v, vmax=v)\n",
    "    tl.set_xticklabels([])\n",
    "    tl.set_yticklabels([])\n",
    "    tl.tick_params(axis='both', length=0, width=0)\n",
    "\n",
    "    \n",
    "    \n",
    "df2  = cdf\n",
    "df2 = df2.groupby(['bdori', 'bcorr'])['n_seg_shared'].mean().reset_index()\n",
    "\n",
    "df2 = df2.pivot('bdori', 'bcorr', 'n_seg_shared')\n",
    "g = sns.heatmap(df2, square=True, cmap='plasma', annot=True, linewidths=2, ax=ax_heat)\n",
    "g.set_yticklabels(['{}°-{}°'.format(*a) for a in bin_labels], rotation=0)\n",
    "g.set_xticklabels(cbin_labels, rotation=30)\n",
    "g.invert_yaxis()\n",
    "g.tick_params(length=0)\n",
    "g.set_xlabel(r'$\\rho$(RF$_1$, RF$_2$)')\n",
    "g.set_ylabel(r'$\\langle$shared segments$\\rangle$')\n",
    "\n",
    "fig.subplots_adjust(wspace=.01, hspace=.01)\n",
    "fig.tight_layout()\n",
    "g.figure.savefig('figures/corr_vs_shared_input_heatmap.png', dpi=200)\n",
    "g.figure.savefig('figures/corr_vs_shared_input_heatmap.pdf')\n"
   ]
  },
  {
   "cell_type": "code",
   "execution_count": null,
   "metadata": {},
   "outputs": [],
   "source": [
    "g = sns.catplot('bdori', 'n_seg_shared', hue='bcorr', kind='bar', palette=sns.color_palette('GnBu', n_colors=5), data=cdf, legend=False)\n",
    "g.add_legend(prop={'size':12})\n",
    "g.set_axis_labels(x_var=r'$\\Delta \\theta$', y_var=r'$\\langle$shared axons$\\rangle$')\n",
    "g.set_xticklabels(['{}°-{}°'.format(*a) for a in bin_labels], rotation=0)\n",
    "new_labels = cbin_labels\n",
    "g._legend.set_title(r'$\\rho$(RF$_1$, RF$_2$)')\n",
    "for t, l in zip(g._legend.texts, new_labels): \n",
    "    t.set_text(l)\n",
    "\n",
    "sns.despine()\n",
    "g.fig.savefig('figures/corr_vs_shared_input_bar.png', dpi=200)\n",
    "g.fig.savefig('figures/corr_vs_shared_input_bar.pdf')"
   ]
  },
  {
   "cell_type": "code",
   "execution_count": null,
   "metadata": {},
   "outputs": [],
   "source": []
  },
  {
   "cell_type": "code",
   "execution_count": null,
   "metadata": {},
   "outputs": [],
   "source": []
  }
 ],
 "metadata": {
  "kernelspec": {
   "display_name": "Python 3",
   "language": "python",
   "name": "python3"
  },
  "language_info": {
   "codemirror_mode": {
    "name": "ipython",
    "version": 3
   },
   "file_extension": ".py",
   "mimetype": "text/x-python",
   "name": "python",
   "nbconvert_exporter": "python",
   "pygments_lexer": "ipython3",
   "version": "3.6.3"
  }
 },
 "nbformat": 4,
 "nbformat_minor": 2
}
