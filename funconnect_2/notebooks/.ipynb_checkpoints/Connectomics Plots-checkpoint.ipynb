{
 "cells": [
  {
   "cell_type": "code",
   "execution_count": null,
   "metadata": {},
   "outputs": [],
   "source": [
    "%reload_ext autoreload\n",
    "%autoreload 2\n",
    "%matplotlib inline"
   ]
  },
  {
   "cell_type": "code",
   "execution_count": null,
   "metadata": {},
   "outputs": [],
   "source": [
    "import seaborn as sns\n",
    "import matplotlib.pyplot as plt\n",
    "import datajoint as dj\n",
    "import pandas as pd\n",
    "from funconnect import connectomics as cnt\n",
    "from funconnect import ta3\n",
    "import numpy as np"
   ]
  },
  {
   "cell_type": "code",
   "execution_count": null,
   "metadata": {},
   "outputs": [],
   "source": [
    "d = (cnt.ShortestPath() & 'target_id > source_id').fetch('d')"
   ]
  },
  {
   "cell_type": "code",
   "execution_count": null,
   "metadata": {},
   "outputs": [],
   "source": [
    "plt.hist?"
   ]
  },
  {
   "cell_type": "code",
   "execution_count": null,
   "metadata": {},
   "outputs": [],
   "source": [
    "with sns.axes_style('ticks'):\n",
    "    fig, ax = plt.subplots(dpi=200)\n",
    "\n",
    "ax.hist(d-1, bins=np.arange(8)-.5, align='mid')\n",
    "sns.despine(fig, trim=True)\n",
    "ax.set_xlabel('degrees of separation [#synapses]')\n",
    "ax.set_ylabel('number of unique soma pairs')\n",
    "ax.tick_params(axis='both', length=3, width=1)\n",
    "plt.setp(ax.spines['left'], lw=1)\n",
    "plt.setp(ax.spines['bottom'], lw=1)\n",
    "fig.savefig('figures/degrees_of_separation.pdf')\n",
    "fig.savefig('figures/degrees_of_separation.png')"
   ]
  },
  {
   "cell_type": "markdown",
   "metadata": {},
   "source": [
    "# Plot types of shortest paths"
   ]
  },
  {
   "cell_type": "code",
   "execution_count": null,
   "metadata": {},
   "outputs": [],
   "source": [
    "df = pd.DataFrame((cnt.ShortestPath * cnt.PathComposition.Composition()).fetch())\n",
    "df['d'] = df['d'] - 1\n",
    "df['path type'] = df['type']"
   ]
  },
  {
   "cell_type": "code",
   "execution_count": null,
   "metadata": {},
   "outputs": [],
   "source": [
    "dat = df.groupby(['d', 'path type']).sum().reset_index()\n",
    "dat"
   ]
  },
  {
   "cell_type": "code",
   "execution_count": null,
   "metadata": {},
   "outputs": [],
   "source": [
    "with sns.axes_style('ticks'):\n",
    "    g = sns.factorplot('d', 'p', hue='path type', data=dat, kind='bar', \n",
    "                       hue_order=['direct', 'excitatory', 'inhibitory', 'mixed', 'unknown'])\n",
    "g.ax.set_yscale('log')\n",
    "g.fig.set_size_inches((7,4))\n",
    "g.fig.set_dpi(200)\n",
    "sns.despine()\n",
    "g.ax.yaxis.grid(True)\n",
    "g.ax.set_xlabel('degrees of separation [#synapses]')\n",
    "g.ax.set_ylabel('number of unique soma pairs')\n",
    "g.fig.savefig('figures/path_types.pdf')\n",
    "g.fig.savefig('figures/path_types.png')"
   ]
  },
  {
   "cell_type": "code",
   "execution_count": null,
   "metadata": {},
   "outputs": [],
   "source": []
  }
 ],
 "metadata": {
  "kernelspec": {
   "display_name": "Python 3",
   "language": "python",
   "name": "python3"
  },
  "language_info": {
   "codemirror_mode": {
    "name": "ipython",
    "version": 3
   },
   "file_extension": ".py",
   "mimetype": "text/x-python",
   "name": "python",
   "nbconvert_exporter": "python",
   "pygments_lexer": "ipython3",
   "version": "3.7.0"
  }
 },
 "nbformat": 4,
 "nbformat_minor": 2
}
