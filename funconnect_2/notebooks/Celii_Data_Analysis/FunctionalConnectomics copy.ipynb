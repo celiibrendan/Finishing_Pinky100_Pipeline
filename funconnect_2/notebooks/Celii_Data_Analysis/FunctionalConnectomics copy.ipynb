{
 "cells": [
  {
   "cell_type": "markdown",
   "metadata": {},
   "source": [
    "# Functional connectomics example"
   ]
  },
  {
   "cell_type": "markdown",
   "metadata": {},
   "source": [
    "## Connect to the database server"
   ]
  },
  {
   "cell_type": "code",
   "execution_count": null,
   "metadata": {},
   "outputs": [],
   "source": [
    " # DatatJoint configuration and connection\n",
    "\n",
    "import datajoint as dj\n"
   ]
  },
  {
   "cell_type": "markdown",
   "metadata": {},
   "source": [
    "## NDA: schema with functional data"
   ]
  },
  {
   "cell_type": "code",
   "execution_count": null,
   "metadata": {},
   "outputs": [],
   "source": [
    "nda = dj.create_virtual_module('nda', 'microns_nda2')"
   ]
  },
  {
   "cell_type": "markdown",
   "metadata": {},
   "source": [
    "## TA3: schema with structural data"
   ]
  },
  {
   "cell_type": "code",
   "execution_count": null,
   "metadata": {},
   "outputs": [],
   "source": [
    "ta3 = dj.create_virtual_module('ta3', 'microns_ta3')"
   ]
  },
  {
   "cell_type": "markdown",
   "metadata": {},
   "source": [
    "## Combined structural and functional pipeline"
   ]
  },
  {
   "cell_type": "code",
   "execution_count": null,
   "metadata": {},
   "outputs": [],
   "source": [
    "dj.ERD(ta3) + dj.ERD(nda)"
   ]
  },
  {
   "cell_type": "markdown",
   "metadata": {},
   "source": [
    "## Functional scans"
   ]
  },
  {
   "cell_type": "code",
   "execution_count": null,
   "metadata": {},
   "outputs": [],
   "source": [
    "nda.Scan()"
   ]
  },
  {
   "cell_type": "markdown",
   "metadata": {},
   "source": [
    "## Segmented cells in the EM volume"
   ]
  },
  {
   "cell_type": "code",
   "execution_count": null,
   "metadata": {},
   "outputs": [],
   "source": [
    "nda.Trace * ta3.Soma"
   ]
  },
  {
   "cell_type": "markdown",
   "metadata": {},
   "source": [
    "## Calcium traces "
   ]
  },
  {
   "cell_type": "code",
   "execution_count": null,
   "metadata": {},
   "outputs": [],
   "source": [
    "nda.Trace()"
   ]
  },
  {
   "cell_type": "markdown",
   "metadata": {},
   "source": [
    "## Calcium traces for segmented cells"
   ]
  },
  {
   "cell_type": "code",
   "execution_count": null,
   "metadata": {},
   "outputs": [],
   "source": [
    "nda.Trace & ta3.Soma"
   ]
  },
  {
   "cell_type": "markdown",
   "metadata": {},
   "source": [
    "## Choose an example cell and plot receptive field"
   ]
  },
  {
   "cell_type": "code",
   "execution_count": null,
   "metadata": {},
   "outputs": [],
   "source": [
    "# import matplotlib for plotting\n",
    "%matplotlib inline\n",
    "from matplotlib import pyplot as plt\n",
    "from matplotlib import rcParams"
   ]
  },
  {
   "cell_type": "code",
   "execution_count": null,
   "metadata": {},
   "outputs": [],
   "source": [
    "key = {'em_id': 396}\n",
    "plt.imshow((nda.MeanRF & key).fetch1('mean_rf'), cmap='gray')\n",
    "plt.axis('equal')\n",
    "plt.axis('off');"
   ]
  },
  {
   "cell_type": "markdown",
   "metadata": {},
   "source": [
    "## Show 3D mesh for the cell"
   ]
  },
  {
   "cell_type": "code",
   "execution_count": null,
   "metadata": {},
   "outputs": [],
   "source": [
    "# select relevant mesh fragments\n",
    "fragments = ta3.Mesh.Fragment & (ta3.Soma & key)"
   ]
  },
  {
   "cell_type": "code",
   "execution_count": null,
   "metadata": {},
   "outputs": [],
   "source": [
    "# interactive plot\n",
    "import ipyvolume.pylab as p3   # for configuration, see https://github.com/maartenbreddels/ipyvolume\n",
    "p3.figure(width=1024, height=1024)\n",
    "for fragment in fragments:\n",
    "    p3.plot_trisurf(*fragment['vertices'].T/1000, triangles=fragment['triangles'])\n",
    "p3.squarelim()\n",
    "p3.show()"
   ]
  },
  {
   "cell_type": "code",
   "execution_count": null,
   "metadata": {},
   "outputs": [],
   "source": [
    "p3.screenshot()"
   ]
  },
  {
   "cell_type": "markdown",
   "metadata": {},
   "source": [
    "## Find cells that synapse onto the given cell"
   ]
  },
  {
   "cell_type": "code",
   "execution_count": null,
   "metadata": {},
   "outputs": [],
   "source": [
    "segments = ta3.Segment & (ta3.Soma & key)\n",
    "preCells = ta3.Soma.proj(presyn='segment_id') & ta3.Synapse * segments.proj(postsyn='segment_id')"
   ]
  },
  {
   "cell_type": "code",
   "execution_count": null,
   "metadata": {},
   "outputs": [],
   "source": [
    "preCells"
   ]
  },
  {
   "cell_type": "markdown",
   "metadata": {},
   "source": [
    "## Presynaptic cells recorded in the same scan as the postsynaptic cell"
   ]
  },
  {
   "cell_type": "code",
   "execution_count": null,
   "metadata": {},
   "outputs": [],
   "source": [
    "pre_cell_mask = nda.Mask & preCells & (nda.Mask & key).proj(post_id='em_id')\n",
    "pre_cell_mask"
   ]
  },
  {
   "cell_type": "markdown",
   "metadata": {},
   "source": [
    "## Plot Ca$^{2+}$ traces for two connected cells"
   ]
  },
  {
   "cell_type": "code",
   "execution_count": null,
   "metadata": {},
   "outputs": [],
   "source": [
    "slice_key = (nda.Slice & pre_cell_mask).fetch('KEY')[0]\n",
    "pre_trace = nda.Trace & pre_cell_mask\n",
    "post_trace = (nda.Trace * nda.ScanInfo & key & slice_key).proj('trace', 'fps')"
   ]
  },
  {
   "cell_type": "code",
   "execution_count": null,
   "metadata": {},
   "outputs": [],
   "source": [
    "pre_trace"
   ]
  },
  {
   "cell_type": "code",
   "execution_count": null,
   "metadata": {},
   "outputs": [],
   "source": [
    "post_trace"
   ]
  },
  {
   "cell_type": "code",
   "execution_count": null,
   "metadata": {},
   "outputs": [],
   "source": [
    "pre_trace"
   ]
  },
  {
   "cell_type": "code",
   "execution_count": null,
   "metadata": {},
   "outputs": [],
   "source": [
    "import numpy as np\n",
    "from scipy.signal import savgol_filter\n",
    "from functools import partial\n",
    "rcParams['figure.figsize'] = (14, 12)\n",
    "\n",
    "fig, (a1, a2) = plt.subplots(2, sharex=True)\n",
    "\n",
    "smooth = partial(savgol_filter, window_length=21, polyorder=7)\n",
    "trace, fps = post_trace.fetch1('trace', 'fps', squeeze=True)\n",
    "time = np.r_[:trace.size]/fps\n",
    "\n",
    "legend = []\n",
    "for pre in pre_trace:\n",
    "    a1.plot(time, smooth(pre['trace'][0,:]) + len(legend)*2000, alpha=0.5)\n",
    "    legend.append('presynaptic')\n",
    "    \n",
    "a1.plot(time, smooth(trace/4)-2000, 'k', alpha=0.7)\n",
    "a1.set_xlim([1160, 1440])\n",
    "a1.set_ylabel('fluorescence')\n",
    "a1.set_yticks([])\n",
    "a1.legend(legend + ['postsynaptic'])\n",
    "a1.set_title('calcium signals')\n",
    "\n",
    "pupil, speed, orientation = (nda.Treadmill * nda.Pupil * nda.Stimulus & slice_key).fetch1(\n",
    "    'pupil_r', 'treadmill_speed', 'conditions', squeeze=True)\n",
    "a2.plot(time, pupil/5)\n",
    "a2.plot(time, abs(speed))\n",
    "a2.plot(time, orientation/100 - 10)\n",
    "a2.set_xlabel('time (s)')\n",
    "a2.legend(('Pupil radius', 'locomotion speed', 'stimulus orientation'))\n",
    "a2.set_yticks([]);"
   ]
  }
 ],
 "metadata": {
  "kernelspec": {
   "display_name": "Python 3",
   "language": "python",
   "name": "python3"
  },
  "language_info": {
   "codemirror_mode": {
    "name": "ipython",
    "version": 3
   },
   "file_extension": ".py",
   "mimetype": "text/x-python",
   "name": "python",
   "nbconvert_exporter": "python",
   "pygments_lexer": "ipython3",
   "version": "3.5.2"
  }
 },
 "nbformat": 4,
 "nbformat_minor": 2
}
