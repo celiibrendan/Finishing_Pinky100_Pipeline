{
 "cells": [
  {
   "cell_type": "code",
   "execution_count": null,
   "metadata": {},
   "outputs": [],
   "source": [
    "%reload_ext autoreload\n",
    "%autoreload 2\n",
    "%matplotlib inline"
   ]
  },
  {
   "cell_type": "code",
   "execution_count": null,
   "metadata": {},
   "outputs": [],
   "source": [
    "import seaborn as sns\n",
    "import datajoint as dj\n",
    "from funconnect import connectomics as cncs, ta3, nda\n",
    "from funconnect.connectomics import *\n",
    "from funconnect.morphology import *\n",
    "import numpy as np\n",
    "from igraph import *\n",
    "import pandas as pd"
   ]
  },
  {
   "cell_type": "code",
   "execution_count": null,
   "metadata": {},
   "outputs": [],
   "source": [
    "df0 = pd.DataFrame((ta3.Segment() * MeshSurfaceArea - ta3.NeuriteSkeleton).proj(\n",
    "    'surface_area', rank='RAND()', type='\"no skeleton\"').fetch(limit=10000, order_by='rank'))\n",
    "df1 = pd.DataFrame((ta3.Segment() * MeshSurfaceArea & ta3.NeuriteSkeleton).proj(\n",
    "    'surface_area', rank='RAND()', type='\"skeleton available\"').fetch(limit=10000, order_by='rank'))\n",
    "len(df0), len(df1)"
   ]
  },
  {
   "cell_type": "code",
   "execution_count": null,
   "metadata": {},
   "outputs": [],
   "source": [
    "df = pd.concat([df0, df1])"
   ]
  },
  {
   "cell_type": "code",
   "execution_count": null,
   "metadata": {},
   "outputs": [],
   "source": [
    "with sns.axes_style('ticks'):\n",
    "    g = sns.FacetGrid(df, hue='type')\n",
    "#     g.map(sns.distplot, 'surface_area', bins=np.linspace(0, 100, 50), kde=False, norm_hist=False)\n",
    "    g.map(sns.kdeplot, 'surface_area', shade=True, lw=1, clip=(0, 100), bw=2)\n",
    "g.fig.set_dpi(200)\n",
    "g.ax.set_yscale('log')\n",
    "g.add_legend(title='selection')\n",
    "g.ax.set_ylabel('#segments')\n",
    "g.ax.set_xlabel(r'mesh surface area $\\mu m^2$')\n",
    "g.fig.savefig('figures/surface_neurite_vs_not.png')\n",
    "g.fig.savefig('figures/surface_neurite_vs_not.pdf')\n"
   ]
  },
  {
   "cell_type": "code",
   "execution_count": null,
   "metadata": {},
   "outputs": [],
   "source": [
    "dj.U('segmentation').aggr((ta3.Segment() * MeshSurfaceArea - ta3.NeuriteSkeleton), mean_surface='AVG(surface_area)')"
   ]
  },
  {
   "cell_type": "code",
   "execution_count": null,
   "metadata": {},
   "outputs": [],
   "source": [
    "dj.U('segmentation').aggr((ta3.Segment() * MeshSurfaceArea & ta3.NeuriteSkeleton), mean_surface='AVG(surface_area)')"
   ]
  },
  {
   "cell_type": "code",
   "execution_count": null,
   "metadata": {},
   "outputs": [],
   "source": []
  }
 ],
 "metadata": {
  "kernelspec": {
   "display_name": "Python 3",
   "language": "python",
   "name": "python3"
  },
  "language_info": {
   "codemirror_mode": {
    "name": "ipython",
    "version": 3
   },
   "file_extension": ".py",
   "mimetype": "text/x-python",
   "name": "python",
   "nbconvert_exporter": "python",
   "pygments_lexer": "ipython3",
   "version": "3.6.3"
  }
 },
 "nbformat": 4,
 "nbformat_minor": 2
}
