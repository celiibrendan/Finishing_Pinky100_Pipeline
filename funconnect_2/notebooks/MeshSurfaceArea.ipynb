{
 "cells": [
  {
   "cell_type": "markdown",
   "metadata": {},
   "source": [
    "# Compute Mesh Surface Area"
   ]
  },
  {
   "cell_type": "markdown",
   "metadata": {},
   "source": [
    "## Connect to the database server"
   ]
  },
  {
   "cell_type": "code",
   "execution_count": null,
   "metadata": {},
   "outputs": [],
   "source": [
    " # DatatJoint configuration and connection\n",
    "\n",
    "import datajoint as dj\n",
    "import ipyvolume.pylab as p3\n",
    "import numpy as np\n",
    "from funconnect import nda, ta3\n",
    "from funconnect.connectomics import MeshSurfaceArea"
   ]
  },
  {
   "cell_type": "markdown",
   "metadata": {},
   "source": [
    "## Combined structural and functional pipeline"
   ]
  },
  {
   "cell_type": "code",
   "execution_count": null,
   "metadata": {},
   "outputs": [],
   "source": [
    "dj.ERD(ta3) + dj.ERD(nda)"
   ]
  },
  {
   "cell_type": "markdown",
   "metadata": {},
   "source": [
    "## Mesh Surface Area"
   ]
  },
  {
   "cell_type": "code",
   "execution_count": null,
   "metadata": {},
   "outputs": [],
   "source": [
    "### define table to compute surface area of a Mesh Fragment\n",
    "@schema\n",
    "class MeshSurfaceArea(dj.Computed):\n",
    "    definition = \"\"\"\n",
    "    # computes total surface area of a mesh with soma\n",
    "    -> ta3.Mesh\n",
    "    ---\n",
    "    surface_area: float         # surface area of a mesh fragment in um^2\n",
    "    \"\"\"\n",
    "    \n",
    "    key_source = ta3.Mesh & ta3.Soma\n",
    "    \n",
    "    def make(self, key):\n",
    "        vertices, triangles = (ta3.Mesh.Fragment & key).fetch('vertices', 'triangles')\n",
    "        vertices = vertices / 1000 # change units from nm to um\n",
    "        frag_area_list = []\n",
    "        # computing area for each fragment of mesh\n",
    "        for vert, triang in zip(vertices, triangles):\n",
    "            tri_area_list = []\n",
    "            for tri_xyz in vert[triang]:\n",
    "                # computing area of triangle\n",
    "                x = np.cross(tri_xyz[0]-tri_xyz[1], tri_xyz[0]-tri_xyz[2])\n",
    "                area_triang = np.linalg.norm(x) / 2\n",
    "                tri_area_list.append(area_triang)\n",
    "            frag_area = np.sum(tri_area_list)\n",
    "            frag_area_list.append(frag_area)\n",
    "        mesh_area = np.sum(frag_area_list)\n",
    "        key['surface_area'] = mesh_area\n",
    "        self.insert1(key)\n",
    "        print('Computed surface area for segment_id {segment_id}'.format(**key))"
   ]
  },
  {
   "cell_type": "code",
   "execution_count": null,
   "metadata": {},
   "outputs": [],
   "source": [
    "MeshSurfaceArea()"
   ]
  },
  {
   "cell_type": "code",
   "execution_count": null,
   "metadata": {},
   "outputs": [],
   "source": []
  }
 ],
 "metadata": {
  "kernelspec": {
   "display_name": "Python 3",
   "language": "python",
   "name": "python3"
  },
  "language_info": {
   "codemirror_mode": {
    "name": "ipython",
    "version": 3
   },
   "file_extension": ".py",
   "mimetype": "text/x-python",
   "name": "python",
   "nbconvert_exporter": "python",
   "pygments_lexer": "ipython3",
   "version": "3.6.3"
  }
 },
 "nbformat": 4,
 "nbformat_minor": 2
}
