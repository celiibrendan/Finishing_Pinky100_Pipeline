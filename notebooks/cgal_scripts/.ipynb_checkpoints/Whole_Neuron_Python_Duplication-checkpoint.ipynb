{
 "cells": [
  {
   "cell_type": "code",
   "execution_count": 10,
   "metadata": {},
   "outputs": [
    {
     "data": {
      "text/plain": [
       "'\\nPurpose: Will generate the extra python script for running the full neuron classification\\n\\nFor the range specified (ex: 40/50)\\n- Create a copy of the python file\\n- generate a new name based on the iterator\\n- rename the file\\n- collect the name in a list\\n\\nOpen up a new bash file\\n1) write #1/bin/bash\\n2) For each name in the list: write \"python [name] &\" as a line\\n3) make it into an executable\\n\\n'"
      ]
     },
     "execution_count": 10,
     "metadata": {},
     "output_type": "execute_result"
    }
   ],
   "source": [
    "'''\n",
    "Purpose: Will generate the extra python script for running the full neuron classification\n",
    "\n",
    "For the range specified (ex: 40/50)\n",
    "- Create a copy of the python file\n",
    "- generate a new name based on the iterator\n",
    "- rename the file\n",
    "- collect the name in a list\n",
    "\n",
    "Open up a new bash file\n",
    "1) write #1/bin/bash\n",
    "2) For each name in the list: write \"python [name] &\" as a line\n",
    "3) make it into an executable\n",
    "\n",
    "'''"
   ]
  },
  {
   "cell_type": "code",
   "execution_count": 11,
   "metadata": {},
   "outputs": [],
   "source": [
    "#generate the copies\n",
    "from shutil import copyfile\n",
    "\n",
    "number_files = 50\n",
    "file_name = \"w5_final_dj_whole_labeler_ta3p100.py\"\n",
    "total_file_lists = list()\n",
    "total_file_lists.append(file_name)\n",
    "for i in range(0,number_files):\n",
    "    #create new name for file\n",
    "    new_name = file_name[:-3] +\"_\"+ str(i) + \".py\"\n",
    "    #copy the file\n",
    "    copyfile(file_name, new_name)\n",
    "    #add to the total list\n",
    "    total_file_lists.append(new_name)\n",
    "    \n",
    "    \n",
    "    "
   ]
  },
  {
   "cell_type": "code",
   "execution_count": 18,
   "metadata": {},
   "outputs": [],
   "source": [
    "#create theh bash file for the list\n",
    "filename = \"whole_neuron_parallel_runs.sh\"\n",
    "f = open(filename, \"w\")\n",
    "f.write(\"#!/bin/bash\\n\")\n",
    "for ll in total_file_lists:\n",
    "    f.write(\"python \" + ll + \" &\\n\")\n",
    "f.close()"
   ]
  },
  {
   "cell_type": "code",
   "execution_count": 19,
   "metadata": {},
   "outputs": [
    {
     "data": {
      "text/plain": [
       "0"
      ]
     },
     "execution_count": 19,
     "metadata": {},
     "output_type": "execute_result"
    }
   ],
   "source": [
    "#how to compile the bash script\n",
    "#import os\n",
    "#os.system(\"chmod +x \"+filename)"
   ]
  },
  {
   "cell_type": "code",
   "execution_count": 17,
   "metadata": {},
   "outputs": [],
   "source": [
    "# #how to clean up all of the files once done:\n",
    "# #create theh bash file for the list\n",
    "# import os\n",
    "# for ll in total_file_lists[1:]:\n",
    "#     os.remove(ll)"
   ]
  },
  {
   "cell_type": "code",
   "execution_count": null,
   "metadata": {},
   "outputs": [],
   "source": []
  }
 ],
 "metadata": {
  "kernelspec": {
   "display_name": "Python 3.7",
   "language": "python",
   "name": "myenv"
  },
  "language_info": {
   "codemirror_mode": {
    "name": "ipython",
    "version": 3
   },
   "file_extension": ".py",
   "mimetype": "text/x-python",
   "name": "python",
   "nbconvert_exporter": "python",
   "pygments_lexer": "ipython3",
   "version": "3.7.0"
  }
 },
 "nbformat": 4,
 "nbformat_minor": 2
}
