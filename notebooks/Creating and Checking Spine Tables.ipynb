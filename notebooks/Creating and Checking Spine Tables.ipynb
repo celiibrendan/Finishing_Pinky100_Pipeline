{
 "cells": [
  {
   "cell_type": "code",
   "execution_count": 1,
   "metadata": {},
   "outputs": [],
   "source": [
    "import datajoint as dj\n",
    "import numpy as np\n",
    "import time"
   ]
  },
  {
   "cell_type": "code",
   "execution_count": 2,
   "metadata": {},
   "outputs": [
    {
     "name": "stdout",
     "output_type": "stream",
     "text": [
      "Connecting celiib@10.28.0.34:3306\n"
     ]
    }
   ],
   "source": [
    "#setting the address and the username\n",
    "dj.config['database.host'] = '10.28.0.34'\n",
    "dj.config['database.user'] = 'celiib'\n",
    "dj.config['database.password'] = 'newceliipass'\n",
    "dj.config['safemode']=True\n",
    "dj.config[\"display.limit\"] = 20\n",
    "\n",
    "schema = dj.schema('microns_ta3p100')\n",
    "ta3p100 = dj.create_virtual_module('ta3p100', 'microns_ta3p100')\n",
    "ta3 = dj.create_virtual_module('ta3', 'microns_ta3')"
   ]
  },
  {
   "cell_type": "code",
   "execution_count": null,
   "metadata": {},
   "outputs": [],
   "source": []
  },
  {
   "cell_type": "code",
   "execution_count": null,
   "metadata": {
    "scrolled": true
   },
   "outputs": [],
   "source": [
    "ta3p100.SynapseSpineLabel()\n",
    "#ta3p100.CoarseLabel()"
   ]
  },
  {
   "cell_type": "code",
   "execution_count": null,
   "metadata": {},
   "outputs": [],
   "source": [
    "ta3.LabelKey()"
   ]
  },
  {
   "cell_type": "code",
   "execution_count": null,
   "metadata": {},
   "outputs": [],
   "source": [
    "axon_segments = (ta3p100.Neurite() & 'neurite_type=\"axon\"').proj(presyn='segment_id')\n",
    "\n",
    "relevant_axon_trace_synapses = ta3p100.Synapse \\\n",
    "                                * ta3p100.SynapseSpineLabel() \\\n",
    "                                *  ta3.LabelKey().proj('description', postsynaptic_label='numeric') \\\n",
    "                                & axon_segments \\\n",
    "                                & ta3p100.CoarseLabel.proj(postsyn='segment_id')\n",
    "\n",
    "\n",
    "fingerprints = dj.U('presyn').aggr(relevant_axon_trace_synapses, \n",
    "                    spine_neck='sum(description = \"Spine Neck\")',\n",
    "                    spine_head='sum(description = \"Spine Head\"),\n",
    "                    spine='sum(description = \"Spine\")',\n",
    "                    total='count(*)') & 'total>4'\n",
    "\n",
    "fingerprints_proportion = dj.U('presyn').aggr(fingerprints, \n",
    "                    spine_neck_prop='spine_neck/total',\n",
    "                    spine_head_prop='spine_head/total,\n",
    "                    spine_prop='spine/total')\n",
    "\n",
    "df = pd.DataFrame(fingerprints.fetch()).set_index('presyn').astype('float')\n",
    "\n",
    "df_unnormed = df[['spine_neck','spine_head','spine']]\n",
    "\n",
    "\n",
    "df_normed = df[['spine_neck','spine_head','spine']].div(\n",
    "                df[['spine_neck','spine_head','spine']].sum(axis=1), axis=0)"
   ]
  },
  {
   "cell_type": "code",
   "execution_count": null,
   "metadata": {},
   "outputs": [],
   "source": []
  },
  {
   "cell_type": "code",
   "execution_count": null,
   "metadata": {},
   "outputs": [],
   "source": [
    "ta3p100.ProofreadLabel() & \"segment_id=648518346349472601\""
   ]
  },
  {
   "cell_type": "code",
   "execution_count": null,
   "metadata": {},
   "outputs": [],
   "source": [
    "ta3p100.SynapseCompartmentLabel()"
   ]
  },
  {
   "cell_type": "code",
   "execution_count": null,
   "metadata": {
    "scrolled": true
   },
   "outputs": [],
   "source": [
    "ta3p100.SynapseCompartmentLabel() + ta3p100.SynapseSpineLabel()"
   ]
  },
  {
   "cell_type": "code",
   "execution_count": null,
   "metadata": {},
   "outputs": [],
   "source": [
    "axon_segments = (ta3p100.Neurite() & 'neurite_type=\"axon\"').proj(presyn='segment_id')\n",
    "\n",
    "relevant_axon_trace_synapses = ta3p100.Synapse \\\n",
    "                                * ta3p100.SynapseCompartmentLabel() \\\n",
    "                                *  ta3.LabelKey().proj('description', postsynaptic_label='numeric') \\\n",
    "                                & axon_segments \\\n",
    "                                & ta3p100.CoarseLabel.proj(postsyn='segment_id')\n",
    "\n",
    "\n",
    "fingerprints = dj.U('presyn').aggr(relevant_axon_trace_synapses, \n",
    "                    apical='sum(description = \"Apical\")',\n",
    "                    basal='sum(description = \"Basal\")',\n",
    "                    oblique='sum(description = \"Oblique\")',\n",
    "                    soma='sum(description = \"Soma\")',\n",
    "                    axon='sum(description like \"Axon%%\")',\n",
    "                    total='count(*)') & 'total>10'\n",
    "\n",
    "\n",
    "\n",
    "fingerprints_prop = dj.U('presyn').aggr(fingerprints, \n",
    "                    apical_prop='apical/total',\n",
    "                    basal='basal/total',\n",
    "                    oblique='oblique/total',\n",
    "                    soma='soma/total',\n",
    "                    axon='axon/total') \n",
    "\n",
    "df = pd.DataFrame(fingerprints.fetch()).set_index('presyn').astype('float')\n",
    "\n",
    "df_unnormed = df[['apical','basal','oblique','soma','axon']]\n",
    "\n",
    "\n",
    "df_normed = df[['apical','basal','oblique','soma','axon']].div(\n",
    "                df[['apical','basal','oblique','soma','axon']].sum(axis=1), axis=0)"
   ]
  },
  {
   "cell_type": "code",
   "execution_count": null,
   "metadata": {},
   "outputs": [],
   "source": [
    "ta3p100.SynapseSpineLabel()"
   ]
  },
  {
   "cell_type": "code",
   "execution_count": null,
   "metadata": {},
   "outputs": [],
   "source": [
    "#create the new SPINE cgal table\n",
    "@schema\n",
    "class ComponentAutoSegment(dj.Computed):\n",
    "    definition = \"\"\"\n",
    "    # creates the labels for the mesh table\n",
    "    -> ta3p100.Compartment.Component\n",
    "    clusters     : tinyint unsigned  #what the clustering parameter was set to\n",
    "    smoothness   : decimal(3,2)             #what the smoothness parameter was set to, number betwee 0 and 1\n",
    "    ---\n",
    "    n_triangles  : int unsigned # number of faces\n",
    "    seg_group    : longblob     # group segmentation ID's for faces from automatic CGAL segmentation\n",
    "    sdf          : longblob     #  width values for faces from from automatic CGAL segmentation\n",
    "    median_sdf   : decimal(6,5) # the median width value for the sdf values\n",
    "    mean_sdf     : decimal(6,5) #the mean width value for the sdf values\n",
    "    third_q      : decimal(6,5) #the upper quartile for the mean width values\n",
    "    ninety_perc  : decimal(6,5) #the 90th percentile for the mean width values\n",
    "    time_updated : timestamp    # the time at which the segmentation was performed\n",
    "   \n",
    "    \n",
    "   \"\"\""
   ]
  },
  {
   "cell_type": "code",
   "execution_count": null,
   "metadata": {},
   "outputs": [],
   "source": [
    "ta3.LabelKey()"
   ]
  },
  {
   "cell_type": "code",
   "execution_count": null,
   "metadata": {},
   "outputs": [],
   "source": [
    "ta3p100.Compartment.Component() "
   ]
  },
  {
   "cell_type": "code",
   "execution_count": null,
   "metadata": {
    "scrolled": true
   },
   "outputs": [],
   "source": [
    "ta3p100.Compartment.Component() & \"n_triangle_indices>5000\" & \"compartment_type='Axon-Soma'\""
   ]
  },
  {
   "cell_type": "code",
   "execution_count": null,
   "metadata": {},
   "outputs": [],
   "source": [
    "ta3p100.CoarseLabel() & \"segment_id=648518346349471565\""
   ]
  },
  {
   "cell_type": "code",
   "execution_count": null,
   "metadata": {},
   "outputs": [],
   "source": [
    "@schema\n",
    "class ComponentLabel(dj.Computed):\n",
    "    definition = \"\"\"\n",
    "    # creates the labels for the mesh table\n",
    "    -> ta3p100.ComponentAutoSegment\n",
    "    time_updated      :timestamp    # the time at which the component labels were updated\n",
    "    ---\n",
    "    n_vertices        :int unsigned #number of vertices in component\n",
    "    n_triangles       :int unsigned #number of faces in component\n",
    "    labeled_vertices  :longblob     #indicate which vertices are spine,spine_head,spine_neck otherwise 0\n",
    "    labeled_triangles :longblob     #indicate which faces are spine,spine_head,spine_neck otherwise 0\n",
    "    n_heads           :int unsigned #totals the number of heads after classification, helps for optimization\n",
    "    used_version      :tinyint      #whether this component is used in the final labels or not, 0 no, 1 yes\n",
    "    \n",
    "   \"\"\""
   ]
  },
  {
   "cell_type": "code",
   "execution_count": null,
   "metadata": {},
   "outputs": [],
   "source": [
    "ta3p100.ComponentLabel()"
   ]
  },
  {
   "cell_type": "code",
   "execution_count": null,
   "metadata": {},
   "outputs": [],
   "source": [
    "#find that all of the neurons were processed\n",
    "comp_ids = cmp.fetch(\"segment_id\")\n",
    "#print(len(np.unique(comp_ids)))\n",
    "comp_unique_ids = np.unique(comp_ids)"
   ]
  },
  {
   "cell_type": "code",
   "execution_count": null,
   "metadata": {},
   "outputs": [],
   "source": [
    "#seem to be missing 3 neurons, find out which ones those are\n",
    "proof_id = (ta3p100.ProofreadLabel() & \"status='complete'\" & ta3p100.CoarseLabel.proj()).fetch(\"segment_id\")\n",
    "missing_ids = set(proof_id).difference(set(comp_unique_ids))"
   ]
  },
  {
   "cell_type": "code",
   "execution_count": null,
   "metadata": {},
   "outputs": [],
   "source": [
    "missing_ids"
   ]
  },
  {
   "cell_type": "code",
   "execution_count": null,
   "metadata": {},
   "outputs": [],
   "source": [
    "missing_ids"
   ]
  },
  {
   "cell_type": "code",
   "execution_count": null,
   "metadata": {},
   "outputs": [],
   "source": [
    "#FIND OUT WHO THE AUTHROS WERE FOR THE MISSING IDS\n",
    "key = dict(segment_id=648518346349506952,status=\"complete\")\n",
    "(ta3p100.ProofreadLabel() & key)"
   ]
  },
  {
   "cell_type": "code",
   "execution_count": null,
   "metadata": {},
   "outputs": [],
   "source": [
    "class ComponentAutoSegment(dj.Computed):\n",
    "    definition = \"\"\"\n",
    "    # creates the labels for the mesh table\n",
    "    -> ta3p100.Compartment.Component\n",
    "    clusters     : tinyint unsigned  #what the clustering parameter was set to\n",
    "    smoothness   : decimal(3,2)             #what the smoothness parameter was set to, number betwee 0 and 1\n",
    "    ---\n",
    "    n_triangles  : int unsigned # number of faces\n",
    "    seg_group    : longblob     # group segmentation ID's for faces from automatic CGAL segmentation\n",
    "    sdf          : longblob     #  width values for faces from from automatic CGAL segmentation\n",
    "    median_sdf   : decimal(6,5) # the median width value for the sdf values\n",
    "    mean_sdf     : decimal(6,5) #the mean width value for the sdf values\n",
    "    third_q      : decimal(6,5) #the upper quartile for the mean width values\n",
    "    ninety_perc  : decimal(6,5) #the 90th percentile for the mean width values\n",
    "    time_updated : timestamp    # the time at which the segmentation was performed\n",
    "   \"\"\""
   ]
  },
  {
   "cell_type": "code",
   "execution_count": null,
   "metadata": {
    "scrolled": true
   },
   "outputs": [],
   "source": [
    "cas = ta3p100.ComponentAutoSegment()\n",
    "seg_id = cas.fetch(\"segment_id\")\n",
    "print(len(seg_id))"
   ]
  },
  {
   "cell_type": "code",
   "execution_count": null,
   "metadata": {},
   "outputs": [],
   "source": [
    "key_source = ta3p100.Compartment.Component & 'n_triangle_indices>100' & [dict(compartment_type=comp) for comp in ['Basal', 'Apical', 'Oblique', 'Dendrite']]\n",
    "key_source"
   ]
  },
  {
   "cell_type": "code",
   "execution_count": null,
   "metadata": {},
   "outputs": [],
   "source": [
    "ta3p100.Compartment.Component()"
   ]
  },
  {
   "cell_type": "code",
   "execution_count": null,
   "metadata": {},
   "outputs": [],
   "source": [
    "(schema.jobs & \"table_name='__component_auto_segment'\").delete()"
   ]
  },
  {
   "cell_type": "code",
   "execution_count": null,
   "metadata": {},
   "outputs": [],
   "source": []
  }
 ],
 "metadata": {
  "kernelspec": {
   "display_name": "Python 3.7",
   "language": "python",
   "name": "myenv"
  },
  "language_info": {
   "codemirror_mode": {
    "name": "ipython",
    "version": 3
   },
   "file_extension": ".py",
   "mimetype": "text/x-python",
   "name": "python",
   "nbconvert_exporter": "python",
   "pygments_lexer": "ipython3",
   "version": "3.7.0"
  }
 },
 "nbformat": 4,
 "nbformat_minor": 2
}
