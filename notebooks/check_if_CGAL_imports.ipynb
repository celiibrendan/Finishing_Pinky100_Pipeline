{
 "cells": [
  {
   "cell_type": "code",
   "execution_count": 1,
   "metadata": {},
   "outputs": [],
   "source": [
    "import datajoint as dj\n",
    "import numpy as np\n",
    "import datetime\n",
    "import math\n",
    "import os\n",
    "\n",
    "#from cloudvolume import CloudVolume\n",
    "#from collections import Counter\n",
    "#from funconnect import ta3"
   ]
  },
  {
   "cell_type": "code",
   "execution_count": 2,
   "metadata": {},
   "outputs": [],
   "source": [
    "#setting the address and the username\n",
    "dj.config['database.host'] = '10.28.0.34'\n",
    "dj.config['database.user'] = 'celiib'\n",
    "dj.config['database.password'] = 'newceliipass'\n",
    "dj.config['safemode']=True\n",
    "dj.config[\"display.limit\"] = 200\n",
    "\n",
    "\n",
    "# user: celiib\n",
    "# pass: newceliipass\n",
    "# host: at-database.ad.bcm.edu\n",
    "# schemas: microns_% and celiib_%"
   ]
  },
  {
   "cell_type": "code",
   "execution_count": 3,
   "metadata": {},
   "outputs": [
    {
     "name": "stdout",
     "output_type": "stream",
     "text": [
      "Connecting celiib@10.28.0.34:3306\n"
     ]
    }
   ],
   "source": [
    "schema = dj.schema('microns_ta3p100',create_tables=True)\n",
    "ta3p100 = dj.create_virtual_module('ta3p100', 'microns_ta3p100')\n",
    "ta3 = dj.create_virtual_module('ta3', 'microns_ta3')"
   ]
  },
  {
   "cell_type": "code",
   "execution_count": 56,
   "metadata": {
    "scrolled": true
   },
   "outputs": [
    {
     "data": {
      "text/html": [
       "\n",
       "        \n",
       "        <style type=\"text/css\">\n",
       "            .Relation{\n",
       "                border-collapse:collapse;\n",
       "            }\n",
       "            .Relation th{\n",
       "                background: #A0A0A0; color: #ffffff; padding:4px; border:#f0e0e0 1px solid;\n",
       "                font-weight: normal; font-family: monospace; font-size: 100%;\n",
       "            }\n",
       "            .Relation td{\n",
       "                padding:4px; border:#f0e0e0 1px solid; font-size:100%;\n",
       "            }\n",
       "            .Relation tr:nth-child(odd){\n",
       "                background: #ffffff;\n",
       "            }\n",
       "            .Relation tr:nth-child(even){\n",
       "                background: #f3f1ff;\n",
       "            }\n",
       "            /* Tooltip container */\n",
       "            .djtooltip {\n",
       "            }\n",
       "            /* Tooltip text */\n",
       "            .djtooltip .djtooltiptext {\n",
       "                visibility: hidden;\n",
       "                width: 120px;\n",
       "                background-color: black;\n",
       "                color: #fff;\n",
       "                text-align: center;\n",
       "                padding: 5px 0;\n",
       "                border-radius: 6px;\n",
       "                /* Position the tooltip text - see examples below! */\n",
       "                position: absolute;\n",
       "                z-index: 1;\n",
       "            }\n",
       "            #primary {\n",
       "                font-weight: bold;\n",
       "                color: black;\n",
       "            }\n",
       "\n",
       "            #nonprimary {\n",
       "                font-weight: normal;\n",
       "                color: white;\n",
       "            }\n",
       "\n",
       "            /* Show the tooltip text when you mouse over the tooltip container */\n",
       "            .djtooltip:hover .djtooltiptext {\n",
       "                visibility: visible;\n",
       "            }\n",
       "        </style>\n",
       "        \n",
       "        <b>creates the labels for the mesh table</b>\n",
       "            <div style=\"max-height:1000px;max-width:1500px;overflow:auto;\">\n",
       "            <table border=\"1\" class=\"Relation\">\n",
       "                <thead> <tr style=\"text-align: right;\"> <th> <div class=\"djtooltip\">\n",
       "                                <p id=\"primary\">segmentation</p>\n",
       "                                <span class=\"djtooltiptext\">segmentation id</span>\n",
       "                            </div></th><th><div class=\"djtooltip\">\n",
       "                                <p id=\"primary\">segment_id</p>\n",
       "                                <span class=\"djtooltiptext\">segment id unique within each Segmentation</span>\n",
       "                            </div></th><th><div class=\"djtooltip\">\n",
       "                                <p id=\"primary\">decimation_ratio</p>\n",
       "                                <span class=\"djtooltiptext\"></span>\n",
       "                            </div></th><th><div class=\"djtooltip\">\n",
       "                                <p id=\"primary\">author_original</p>\n",
       "                                <span class=\"djtooltiptext\">name of last editor</span>\n",
       "                            </div></th><th><div class=\"djtooltip\">\n",
       "                                <p id=\"primary\">author_proofreader</p>\n",
       "                                <span class=\"djtooltiptext\">name of last editor</span>\n",
       "                            </div></th><th><div class=\"djtooltip\">\n",
       "                                <p id=\"primary\">date_time</p>\n",
       "                                <span class=\"djtooltiptext\">the last time it was edited</span>\n",
       "                            </div></th><th><div class=\"djtooltip\">\n",
       "                                <p id=\"nonprimary\">vertices</p>\n",
       "                                <span class=\"djtooltiptext\">label data for the vertices</span>\n",
       "                            </div></th><th><div class=\"djtooltip\">\n",
       "                                <p id=\"nonprimary\">triangles</p>\n",
       "                                <span class=\"djtooltiptext\">label data for the faces</span>\n",
       "                            </div></th><th><div class=\"djtooltip\">\n",
       "                                <p id=\"nonprimary\">edges</p>\n",
       "                                <span class=\"djtooltiptext\">label data for the edges</span>\n",
       "                            </div></th><th><div class=\"djtooltip\">\n",
       "                                <p id=\"nonprimary\">status</p>\n",
       "                                <span class=\"djtooltiptext\">the index of the status descriptor that can be references by the StatusKey</span>\n",
       "                            </div> </th> </tr> </thead>\n",
       "                <tbody> <tr> <td>2</td>\n",
       "<td>648518346341371119</td>\n",
       "<td>0.35</td>\n",
       "<td>computer_Auto</td>\n",
       "<td>zhiweid</td>\n",
       "<td>2019-01-24 01:36:06</td>\n",
       "<td>=BLOB=</td>\n",
       "<td>=BLOB=</td>\n",
       "<td>=BLOB=</td>\n",
       "<td>complete</td> </tr> </tbody>\n",
       "            </table>\n",
       "            \n",
       "            <p>1 tuples</p></div>\n",
       "            "
      ],
      "text/plain": [
       "*segmentation  *segment_id    *decimation_ra *author_origin *author_proofr *date_time     vertices   triangles  edges      status      \n",
       "+------------+ +------------+ +------------+ +------------+ +------------+ +------------+ +--------+ +--------+ +--------+ +----------+\n",
       "2              64851834634137 0.35           computer_Auto  zhiweid        2019-01-24 01: =BLOB=     =BLOB=     =BLOB=     complete    \n",
       " (1 tuples)"
      ]
     },
     "execution_count": 56,
     "metadata": {},
     "output_type": "execute_result"
    }
   ],
   "source": [
    "proof = ta3p100.ProofreadLabel() & 'segment_id=648518346341371119'\n",
    "proof"
   ]
  },
  {
   "cell_type": "code",
   "execution_count": 45,
   "metadata": {},
   "outputs": [
    {
     "data": {
      "text/plain": [
       "array([datetime.datetime(2019, 1, 25, 3, 17, 1)], dtype=object)"
      ]
     },
     "execution_count": 45,
     "metadata": {},
     "output_type": "execute_result"
    }
   ],
   "source": [
    "#proof & \"segment_id=648518346349485701\"\n",
    "(proof & \"segment_id=\" + str(648518346349485701) & \"status='complete'\").fetch(\"date_time\")"
   ]
  },
  {
   "cell_type": "code",
   "execution_count": 49,
   "metadata": {},
   "outputs": [],
   "source": [
    "#go through and drop everything but the latest annotations that aren't complete\n",
    "segment_id, author_comp, date_time = (proof & \"status='complete'\").fetch(\"segment_id\",\"author_proofreader\",\"date_time\")"
   ]
  },
  {
   "cell_type": "code",
   "execution_count": 50,
   "metadata": {},
   "outputs": [
    {
     "data": {
      "text/plain": [
       "[]"
      ]
     },
     "execution_count": 50,
     "metadata": {},
     "output_type": "execute_result"
    }
   ],
   "source": [
    "from collections import Counter\n",
    "myCounter = Counter(segment_id)\n",
    "myCounter\n",
    "#find the neurons that have more than one complete status\n",
    "multiple_complete = [k for k,j in myCounter.items() if j>1]\n",
    "multiple_complete"
   ]
  },
  {
   "cell_type": "code",
   "execution_count": 40,
   "metadata": {
    "scrolled": true
   },
   "outputs": [
    {
     "name": "stdout",
     "output_type": "stream",
     "text": [
      "total_times=[datetime.datetime(2019, 1, 25, 3, 14, 31)\n",
      " datetime.datetime(2019, 1, 25, 3, 17, 1)]\n",
      "latest_time = 2019-01-25 03:17:01\n",
      "total_times=[datetime.datetime(2019, 1, 25, 12, 35, 23)\n",
      " datetime.datetime(2019, 1, 25, 13, 15, 8)]\n",
      "latest_time = 2019-01-25 13:15:08\n",
      "total_times=[datetime.datetime(2019, 1, 25, 14, 10, 22)\n",
      " datetime.datetime(2019, 1, 25, 14, 28, 46)]\n",
      "latest_time = 2019-01-25 14:28:46\n",
      "total_times=[datetime.datetime(2019, 1, 25, 14, 10, 33)\n",
      " datetime.datetime(2019, 1, 25, 14, 15, 11)]\n",
      "latest_time = 2019-01-25 14:15:11\n",
      "total_times=[datetime.datetime(2019, 1, 25, 14, 46, 35)\n",
      " datetime.datetime(2019, 1, 25, 14, 46, 15)]\n",
      "latest_time = 2019-01-25 14:46:35\n",
      "total_times=[datetime.datetime(2019, 1, 26, 13, 30, 30)\n",
      " datetime.datetime(2019, 1, 25, 15, 39, 58)]\n",
      "latest_time = 2019-01-26 13:30:30\n",
      "total_times=[datetime.datetime(2019, 1, 25, 16, 18, 19)\n",
      " datetime.datetime(2019, 1, 25, 16, 28, 51)]\n",
      "latest_time = 2019-01-25 16:28:51\n",
      "total_times=[datetime.datetime(2019, 1, 25, 16, 54, 40)\n",
      " datetime.datetime(2019, 1, 25, 16, 58, 58)]\n",
      "latest_time = 2019-01-25 16:58:58\n",
      "total_times=[datetime.datetime(2019, 1, 25, 17, 19, 13)\n",
      " datetime.datetime(2019, 1, 25, 17, 27, 57)]\n",
      "latest_time = 2019-01-25 17:27:57\n"
     ]
    }
   ],
   "source": [
    "neurons_to_drop = []\n",
    "#get the keys for the non-latest ones\n",
    "for mult_neuron in multiple_complete:\n",
    "    #print(mult_neuron)\n",
    "    total_times = (proof & \"segment_id=\" + str(mult_neuron) & \"status='complete'\").fetch(\"date_time\")\n",
    "    #print(total_times)\n",
    "    print(\"total_times=\"+ str(total_times))\n",
    "    latest_time = total_times[0]\n",
    "    for dt in total_times[1:]:\n",
    "        if dt > latest_time:\n",
    "            latest_time = dt\n",
    "    \n",
    "    print(\"latest_time = \" + str(latest_time))\n",
    "    #add dictionary keys to be dropped\n",
    "    to_remove = list(total_times)\n",
    "    to_remove.remove(latest_time)\n",
    "    #print(to_remove)\n",
    "    for t in to_remove:\n",
    "        neurons_to_drop.append(dict(segment_id=mult_neuron,date_time=t))\n",
    "\n",
    "#print(neurons_to_drop)\n",
    "    "
   ]
  },
  {
   "cell_type": "code",
   "execution_count": 41,
   "metadata": {
    "scrolled": true
   },
   "outputs": [
    {
     "name": "stdout",
     "output_type": "stream",
     "text": [
      "[{'segment_id': 648518346349485701, 'date_time': datetime.datetime(2019, 1, 25, 3, 14, 31)}, {'segment_id': 648518346349492662, 'date_time': datetime.datetime(2019, 1, 25, 12, 35, 23)}, {'segment_id': 648518346349497094, 'date_time': datetime.datetime(2019, 1, 25, 14, 10, 22)}, {'segment_id': 648518346349498239, 'date_time': datetime.datetime(2019, 1, 25, 14, 10, 33)}, {'segment_id': 648518346349500139, 'date_time': datetime.datetime(2019, 1, 25, 14, 46, 15)}, {'segment_id': 648518346349500657, 'date_time': datetime.datetime(2019, 1, 25, 15, 39, 58)}, {'segment_id': 648518346349502920, 'date_time': datetime.datetime(2019, 1, 25, 16, 18, 19)}, {'segment_id': 648518346349503767, 'date_time': datetime.datetime(2019, 1, 25, 16, 54, 40)}, {'segment_id': 648518346349504442, 'date_time': datetime.datetime(2019, 1, 25, 17, 19, 13)}]\n"
     ]
    }
   ],
   "source": [
    "print(neurons_to_drop)"
   ]
  },
  {
   "cell_type": "code",
   "execution_count": 43,
   "metadata": {},
   "outputs": [
    {
     "name": "stdout",
     "output_type": "stream",
     "text": [
      "About to delete:\n",
      "`microns_ta3p100`.`proofread_label`: 1 items\n",
      "Proceed? [yes, No]: yes\n",
      "Committed.\n"
     ]
    }
   ],
   "source": [
    "#practice dropping one\n",
    "example_dict = {'segment_id': 648518346349485701, 'date_time': datetime.datetime(2019, 1, 25, 3, 14, 31)}\n",
    "(proof & example_dict).delete()"
   ]
  },
  {
   "cell_type": "code",
   "execution_count": 48,
   "metadata": {
    "scrolled": true
   },
   "outputs": [
    {
     "name": "stdout",
     "output_type": "stream",
     "text": [
      "About to delete:\n",
      "Nothing to delete\n",
      "About to delete:\n",
      "`microns_ta3p100`.`proofread_label`: 1 items\n",
      "Proceed? [yes, No]: yes\n",
      "Committed.\n",
      "About to delete:\n",
      "`microns_ta3p100`.`proofread_label`: 1 items\n",
      "Proceed? [yes, No]: yes\n",
      "Committed.\n",
      "About to delete:\n",
      "`microns_ta3p100`.`proofread_label`: 1 items\n",
      "Proceed? [yes, No]: yes\n",
      "Committed.\n",
      "About to delete:\n",
      "`microns_ta3p100`.`proofread_label`: 1 items\n",
      "Proceed? [yes, No]: yes\n",
      "Committed.\n",
      "About to delete:\n",
      "`microns_ta3p100`.`proofread_label`: 1 items\n",
      "Proceed? [yes, No]: yes\n",
      "Committed.\n",
      "About to delete:\n",
      "`microns_ta3p100`.`proofread_label`: 1 items\n",
      "Proceed? [yes, No]: yes\n",
      "Committed.\n",
      "About to delete:\n",
      "`microns_ta3p100`.`proofread_label`: 1 items\n",
      "Proceed? [yes, No]: yes\n",
      "Committed.\n",
      "About to delete:\n",
      "`microns_ta3p100`.`proofread_label`: 1 items\n",
      "Proceed? [yes, No]: yes\n",
      "Committed.\n"
     ]
    }
   ],
   "source": [
    "for nd in neurons_to_drop:\n",
    "    (proof & nd).delete()"
   ]
  },
  {
   "cell_type": "code",
   "execution_count": 37,
   "metadata": {
    "collapsed": true
   },
   "outputs": [
    {
     "name": "stdout",
     "output_type": "stream",
     "text": [
      "[5]\n"
     ]
    }
   ],
   "source": [
    "x = [4 , 5]\n",
    "y = x.remove(4)\n",
    "print(x)"
   ]
  },
  {
   "cell_type": "code",
   "execution_count": 51,
   "metadata": {
    "scrolled": false
   },
   "outputs": [
    {
     "name": "stdout",
     "output_type": "stream",
     "text": [
      "322\n"
     ]
    }
   ],
   "source": [
    "#check to see how many unique neurons we have\n",
    "neurons = proof.fetch(\"segment_id\")\n",
    "#neurons\n",
    "print(len(np.unique(neurons)))"
   ]
  },
  {
   "cell_type": "code",
   "execution_count": 52,
   "metadata": {
    "scrolled": true
   },
   "outputs": [
    {
     "name": "stdout",
     "output_type": "stream",
     "text": [
      "319\n"
     ]
    }
   ],
   "source": [
    "#check how many complete unique neurons we have\n",
    "neurons_complete, authors_complete = (ta3p100.ProofreadLabel & \"status='complete'\").fetch(\"segment_id\",\"author_proofreader\")\n",
    "print(len(np.unique(neurons_complete)))"
   ]
  },
  {
   "cell_type": "code",
   "execution_count": 53,
   "metadata": {},
   "outputs": [],
   "source": [
    "#find incomplete neurons and their authors:\n",
    "neurons_partial, authors_partial = (ta3p100.ProofreadLabel & \"status='partial'\").fetch(\"segment_id\",\"author_proofreader\")"
   ]
  },
  {
   "cell_type": "code",
   "execution_count": 54,
   "metadata": {},
   "outputs": [
    {
     "name": "stdout",
     "output_type": "stream",
     "text": [
      "3\n"
     ]
    }
   ],
   "source": [
    "final_neurons_partial = []\n",
    "final_authors_partial = []\n",
    "for i,(neur, auth) in enumerate(zip(neurons_partial, authors_partial)):\n",
    "    if neur not in final_neurons_partial and neur not in neurons_complete:\n",
    "        final_neurons_partial.append(neur)\n",
    "        final_authors_partial.append(auth)\n",
    "\n",
    "print(len(final_neurons_partial))"
   ]
  },
  {
   "cell_type": "code",
   "execution_count": 55,
   "metadata": {},
   "outputs": [
    {
     "data": {
      "text/html": [
       "<div>\n",
       "<style scoped>\n",
       "    .dataframe tbody tr th:only-of-type {\n",
       "        vertical-align: middle;\n",
       "    }\n",
       "\n",
       "    .dataframe tbody tr th {\n",
       "        vertical-align: top;\n",
       "    }\n",
       "\n",
       "    .dataframe thead th {\n",
       "        text-align: right;\n",
       "    }\n",
       "</style>\n",
       "<table border=\"1\" class=\"dataframe\">\n",
       "  <thead>\n",
       "    <tr style=\"text-align: right;\">\n",
       "      <th></th>\n",
       "      <th>authros</th>\n",
       "      <th>neurons</th>\n",
       "    </tr>\n",
       "  </thead>\n",
       "  <tbody>\n",
       "    <tr>\n",
       "      <th>2</th>\n",
       "      <td>bcelii</td>\n",
       "      <td>648518346349507717</td>\n",
       "    </tr>\n",
       "    <tr>\n",
       "      <th>0</th>\n",
       "      <td>zhuan</td>\n",
       "      <td>648518346349499851</td>\n",
       "    </tr>\n",
       "    <tr>\n",
       "      <th>1</th>\n",
       "      <td>zhuan</td>\n",
       "      <td>648518346349503236</td>\n",
       "    </tr>\n",
       "  </tbody>\n",
       "</table>\n",
       "</div>"
      ],
      "text/plain": [
       "  authros             neurons\n",
       "2  bcelii  648518346349507717\n",
       "0   zhuan  648518346349499851\n",
       "1   zhuan  648518346349503236"
      ]
     },
     "execution_count": 55,
     "metadata": {},
     "output_type": "execute_result"
    }
   ],
   "source": [
    "#output my complete list to a spreadsheet\n",
    "import pandas as pd\n",
    "\n",
    "partial_dataframe = pd.DataFrame(dict(authros=final_authors_partial,neurons=final_neurons_partial))\n",
    "partial_dataframe.sort_values(by=['authros'])"
   ]
  },
  {
   "cell_type": "code",
   "execution_count": null,
   "metadata": {},
   "outputs": [],
   "source": []
  }
 ],
 "metadata": {
  "kernelspec": {
   "display_name": "Python 3",
   "language": "python",
   "name": "python3"
  },
  "language_info": {
   "codemirror_mode": {
    "name": "ipython",
    "version": 3
   },
   "file_extension": ".py",
   "mimetype": "text/x-python",
   "name": "python",
   "nbconvert_exporter": "python",
   "pygments_lexer": "ipython3",
   "version": "3.7.0"
  }
 },
 "nbformat": 4,
 "nbformat_minor": 2
}
